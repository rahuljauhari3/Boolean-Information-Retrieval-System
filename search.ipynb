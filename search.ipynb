{
 "cells": [
  {
   "cell_type": "code",
   "execution_count": 1,
   "id": "8cacf1a2",
   "metadata": {},
   "outputs": [
    {
     "name": "stdout",
     "output_type": "stream",
     "text": [
      "Preprocessing + Indexing Time:  23.851502180099487\n"
     ]
    },
    {
     "data": {
      "text/plain": [
       "'bigramindex is pickled'"
      ]
     },
     "execution_count": 1,
     "metadata": {},
     "output_type": "execute_result"
    }
   ],
   "source": [
    "import pickle\n",
    "from nltk import ngrams\n",
    "from Model import BooleanIRSystem\n",
    "\n",
    "\n",
    "obj=BooleanIRSystem(\"./corpus/*\")\n",
    "inverted_index=obj.postings\n",
    "\n",
    "bigramindex={}\n",
    "\n",
    "for word in inverted_index.keys():\n",
    "    temp=word\n",
    "    word=\"$\"+word+\"$\"\n",
    "    bigramindex[temp]=list(ngrams(word, 2))\n",
    "\n",
    "# print(bigramindex)\n",
    "# '''adds $ to marks ends of the word and then calculates all \n",
    "# the bigrams of unique words and stores in a dict called bigramindex \n",
    "# where key is word and value is list of bigrams'''\n",
    "\n",
    "filename = 'bigramindex'\n",
    "outfile = open(filename,'wb')\n",
    "pickle.dump(bigramindex,outfile)\n",
    "outfile.close()\n",
    "'''bigramindex is pickled'''"
   ]
  },
  {
   "cell_type": "code",
   "execution_count": 9,
   "id": "d5916731",
   "metadata": {
    "scrolled": true
   },
   "outputs": [
    {
     "name": "stdout",
     "output_type": "stream",
     "text": [
      "Preprocessing + Indexing Time:  24.901432275772095\n",
      "Enter 0 or 1:1\n",
      "Search WildcardQuery:h*p*i\n",
      "Preprocessing + Indexing Time:  23.465222358703613\n",
      "matching words:\n",
      "['hapli', 'httpsshakespearefolgeredushakespearesworksrichardii', 'harpi', 'halfpenni', 'httpsshakespearefolgeredushakespearesworksrichardiii', 'hypocrisi', 'httpsshakespearefolgeredushakespearesworkshenryviii', 'httpsshakespearefolgeredushakespearesworksvenusandadoni', 'happi', 'hapcheerli', 'happili']\n",
      "Preprocessing + Indexing Time:  23.673816680908203\n",
      "Searching Time:  0.61332917213440\n",
      "['alls-well-that-ends-well_TXT_FolgerShakespeare.txt', 'antony-and-cleopatra_TXT_FolgerShakespeare.txt', 'cymbeline_TXT_FolgerShakespeare.txt', 'hamlet_TXT_FolgerShakespeare.txt', 'henry-iv-part-2_TXT_FolgerShakespeare.txt', 'henry-vi-part-2_TXT_FolgerShakespeare.txt', 'henry-vi-part-3_TXT_FolgerShakespeare.txt', 'henry-v_TXT_FolgerShakespeare.txt', 'king-lear_TXT_FolgerShakespeare.txt', 'lucrece_TXT_FolgerShakespeare.txt', 'othello_TXT_FolgerShakespeare.txt', 'richard-iii_TXT_FolgerShakespeare.txt', 'romeo-and-juliet_TXT_FolgerShakespeare.txt', 'shakespeares-sonnets_TXT_FolgerShakespeare.txt', 'the-comedy-of-errors_TXT_FolgerShakespeare.txt', 'the-taming-of-the-shrew_TXT_FolgerShakespeare.txt', 'the-two-gentlemen-of-verona_TXT_FolgerShakespeare.txt', 'the-two-noble-kinsmen_TXT_FolgerShakespeare.txt', 'twelfth-night_TXT_FolgerShakespeare.txt']\n",
      "Searching Time:  4.79221034049988\n",
      "['richard-ii_TXT_FolgerShakespeare.txt']\n",
      "Searching Time:  0.61442494392395\n",
      "['much-ado-about-nothing_TXT_FolgerShakespeare.txt', 'pericles_TXT_FolgerShakespeare.txt', 'the-tempest_TXT_FolgerShakespeare.txt']\n",
      "Searching Time:  1.00070548057556\n",
      "['hamlet_TXT_FolgerShakespeare.txt', 'henry-vi-part-2_TXT_FolgerShakespeare.txt', 'loves-labors-lost_TXT_FolgerShakespeare.txt', 'the-merry-wives-of-windsor_TXT_FolgerShakespeare.txt']\n",
      "Searching Time:  4.92280936241150\n",
      "['richard-iii_TXT_FolgerShakespeare.txt']\n",
      "Searching Time:  1.00235152244568\n",
      "['henry-viii_TXT_FolgerShakespeare.txt', 'loves-labors-lost_TXT_FolgerShakespeare.txt', 'othello_TXT_FolgerShakespeare.txt', 'richard-ii_TXT_FolgerShakespeare.txt', 'the-two-noble-kinsmen_TXT_FolgerShakespeare.txt']\n",
      "Searching Time:  4.83007812500000\n",
      "['henry-viii_TXT_FolgerShakespeare.txt']\n",
      "Searching Time:  5.20607519149780\n",
      "['venus-and-adonis_TXT_FolgerShakespeare.txt']\n",
      "Searching Time:  0.60538005828857\n",
      "['a-midsummer-nights-dream_TXT_FolgerShakespeare.txt', 'alls-well-that-ends-well_TXT_FolgerShakespeare.txt', 'antony-and-cleopatra_TXT_FolgerShakespeare.txt', 'as-you-like-it_TXT_FolgerShakespeare.txt', 'coriolanus_TXT_FolgerShakespeare.txt', 'cymbeline_TXT_FolgerShakespeare.txt', 'hamlet_TXT_FolgerShakespeare.txt', 'henry-iv-part-1_TXT_FolgerShakespeare.txt', 'henry-iv-part-2_TXT_FolgerShakespeare.txt', 'henry-vi-part-1_TXT_FolgerShakespeare.txt', 'henry-vi-part-2_TXT_FolgerShakespeare.txt', 'henry-vi-part-3_TXT_FolgerShakespeare.txt', 'henry-viii_TXT_FolgerShakespeare.txt', 'henry-v_TXT_FolgerShakespeare.txt', 'julius-caesar_TXT_FolgerShakespeare.txt', 'king-john_TXT_FolgerShakespeare.txt', 'king-lear_TXT_FolgerShakespeare.txt', 'loves-labors-lost_TXT_FolgerShakespeare.txt', 'lucrece_TXT_FolgerShakespeare.txt', 'macbeth_TXT_FolgerShakespeare.txt', 'measure-for-measure_TXT_FolgerShakespeare.txt', 'much-ado-about-nothing_TXT_FolgerShakespeare.txt', 'othello_TXT_FolgerShakespeare.txt', 'pericles_TXT_FolgerShakespeare.txt', 'richard-iii_TXT_FolgerShakespeare.txt', 'richard-ii_TXT_FolgerShakespeare.txt', 'romeo-and-juliet_TXT_FolgerShakespeare.txt', 'shakespeares-sonnets_TXT_FolgerShakespeare.txt', 'the-comedy-of-errors_TXT_FolgerShakespeare.txt', 'the-merchant-of-venice_TXT_FolgerShakespeare.txt', 'the-merry-wives-of-windsor_TXT_FolgerShakespeare.txt', 'the-taming-of-the-shrew_TXT_FolgerShakespeare.txt', 'the-two-gentlemen-of-verona_TXT_FolgerShakespeare.txt', 'the-two-noble-kinsmen_TXT_FolgerShakespeare.txt', 'the-winters-tale_TXT_FolgerShakespeare.txt', 'timon-of-athens_TXT_FolgerShakespeare.txt', 'titus-andronicus_TXT_FolgerShakespeare.txt', 'troilus-and-cressida_TXT_FolgerShakespeare.txt', 'twelfth-night_TXT_FolgerShakespeare.txt', 'venus-and-adonis_TXT_FolgerShakespeare.txt']\n",
      "Searching Time:  1.10105681419373\n",
      "['the-tempest_TXT_FolgerShakespeare.txt']\n",
      "Searching Time:  0.82282519340515\n",
      "['alls-well-that-ends-well_TXT_FolgerShakespeare.txt', 'antony-and-cleopatra_TXT_FolgerShakespeare.txt', 'coriolanus_TXT_FolgerShakespeare.txt', 'hamlet_TXT_FolgerShakespeare.txt', 'henry-iv-part-1_TXT_FolgerShakespeare.txt', 'henry-vi-part-2_TXT_FolgerShakespeare.txt', 'henry-viii_TXT_FolgerShakespeare.txt', 'king-john_TXT_FolgerShakespeare.txt', 'macbeth_TXT_FolgerShakespeare.txt', 'measure-for-measure_TXT_FolgerShakespeare.txt', 'othello_TXT_FolgerShakespeare.txt', 'pericles_TXT_FolgerShakespeare.txt', 'richard-ii_TXT_FolgerShakespeare.txt', 'romeo-and-juliet_TXT_FolgerShakespeare.txt', 'the-merchant-of-venice_TXT_FolgerShakespeare.txt', 'the-taming-of-the-shrew_TXT_FolgerShakespeare.txt', 'the-two-gentlemen-of-verona_TXT_FolgerShakespeare.txt', 'the-winters-tale_TXT_FolgerShakespeare.txt', 'titus-andronicus_TXT_FolgerShakespeare.txt']\n",
      "{'hapcheerli', 'harpi', 'httpsshakespearefolgeredushakespearesworksrichardii', 'halfpenni', 'httpsshakespearefolgeredushakespearesworksrichardiii', 'hypocrisi', 'httpsshakespearefolgeredushakespearesworkshenryviii', 'httpsshakespearefolgeredushakespearesworksvenusandadoni', 'happi', 'hapli', 'happili'}\n",
      "Total Time:  88.64008235931396\n"
     ]
    }
   ],
   "source": [
    "from Model import BooleanIRSystem\n",
    "import time\n",
    "from wild_card import matchwildcard\n",
    "\n",
    "if __name__ == \"__main__\":\n",
    "    model = BooleanIRSystem(\"./corpus/*\")\n",
    "    start_time = time.time()\n",
    "    \"\"\" Accepting query as input from the user and splitting\n",
    "    the query into boolean words (&,|,~) and\n",
    "    query words \"\"\"\n",
    "    num = input(\"Enter 0 for normal query and 1 for wildcard query:\")\n",
    "    if num == \"0\":\n",
    "        print(model.query(input(\"Search Query:\")))\n",
    "    elif num==\"1\":\n",
    "        print(matchwildcard(input(\"Search WildcardQuery:\")))\n",
    "\n",
    "    # print(model.query(input(\"Search Query:\")))\n",
    "    end_time = time.time()\n",
    "    total_time = end_time - start_time\n",
    "    print(\"Total Time: \", total_time)"
   ]
  }
 ],
 "metadata": {
  "kernelspec": {
   "display_name": "Python 3",
   "language": "python",
   "name": "python3"
  },
  "language_info": {
   "codemirror_mode": {
    "name": "ipython",
    "version": 3
   },
   "file_extension": ".py",
   "mimetype": "text/x-python",
   "name": "python",
   "nbconvert_exporter": "python",
   "pygments_lexer": "ipython3",
   "version": "3.8.8"
  }
 },
 "nbformat": 4,
 "nbformat_minor": 5
}
